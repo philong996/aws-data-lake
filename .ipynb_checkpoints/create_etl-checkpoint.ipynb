{
 "cells": [
  {
   "cell_type": "code",
   "execution_count": 45,
   "metadata": {
    "editable": true
   },
   "outputs": [],
   "source": [
    "import configparser\n",
    "from datetime import datetime\n",
    "import os\n",
    "from pyspark.sql.types import TimestampType, DateType\n",
    "from pyspark.sql.window import Window\n",
    "from pyspark.sql import SparkSession\n",
    "from pyspark.sql import functions as F\n",
    "from pyspark.sql.functions import udf, col\n",
    "from pyspark.sql.functions import year, month, dayofmonth, hour, weekofyear, date_format"
   ]
  },
  {
   "cell_type": "code",
   "execution_count": 2,
   "metadata": {
    "editable": true
   },
   "outputs": [
    {
     "name": "stdout",
     "output_type": "stream",
     "text": [
      "log_data  log-data.zip\tprocessed_data\tsong_data  song-data.zip\n"
     ]
    }
   ],
   "source": [
    "!ls ./data/"
   ]
  },
  {
   "cell_type": "code",
   "execution_count": 3,
   "metadata": {
    "editable": true
   },
   "outputs": [],
   "source": [
    "def create_spark_session():\n",
    "    spark = SparkSession \\\n",
    "        .builder \\\n",
    "        .config(\"spark.jars.packages\", \"org.apache.hadoop:hadoop-aws:2.7.0\") \\\n",
    "        .getOrCreate()\n",
    "    return spark"
   ]
  },
  {
   "cell_type": "code",
   "execution_count": 4,
   "metadata": {
    "editable": true
   },
   "outputs": [],
   "source": [
    "config = configparser.ConfigParser()\n",
    "config.read_file(open('dl.cfg'))\n",
    "\n",
    "os.environ['AWS_ACCESS_KEY_ID']=config['AWS']['AWS_ACCESS_KEY_ID']\n",
    "os.environ['AWS_SECRET_ACCESS_KEY']=config['AWS']['AWS_SECRET_ACCESS_KEY']"
   ]
  },
  {
   "cell_type": "code",
   "execution_count": 5,
   "metadata": {
    "editable": true
   },
   "outputs": [],
   "source": [
    "input_data = \"./data/\"\n",
    "output_data = \"s3a://udacity-longnpp/sparkify/\"\n",
    "spark = create_spark_session()"
   ]
  },
  {
   "cell_type": "code",
   "execution_count": null,
   "metadata": {
    "editable": true
   },
   "outputs": [],
   "source": [
    "def process_log_data(spark, input_data, output_data):\n",
    "    # get filepath to log data file\n",
    "    log_data = input_data + \"log_data/\"\n",
    "\n",
    "    # read log data file\n",
    "    df = spark.read.json(log_data)\n",
    "    \n",
    "    # filter by actions for song plays\n",
    "    df = df.where(col(\"page\") == \"NextSong\")\n",
    "\n",
    "    # extract columns for users table    \n",
    "    window = Window.partitionBy(\"userId\").orderBy(F.desc(\"ts\"))\n",
    "    artists_table = df.withColumn(\"rank\", F.rank().over(window))\\\n",
    "                .where(col(\"rank\") == 1)\\\n",
    "                .where(col('userId').isNotNull())\\\n",
    "                .select(col('userId').alias('user_id'), \n",
    "                        col('firstName').alias('first_name'), \n",
    "                        col('lastName').alias('last_name'), \n",
    "                        col('gender'), \n",
    "                        col('level'))\n",
    "\n",
    "    \n",
    "    # write artists table to parquet files\n",
    "    artists_table.write.parquet(output_data  + \"artists_table\")\n",
    "\n",
    "    # create timestamp column from original timestamp column\n",
    "    get_timestamp = udf(lambda row: datetime.fromtimestamp(row / 1000), TimestampType())\n",
    "    df = df.withColumn(\"timestamp\", get_timestamp(\"ts\"))\n",
    "    \n",
    "    # create datetime column from original timestamp column\n",
    "    get_datetime = udf(lambda row: datetime.fromtimestamp(row / 1000).date(), DateType())\n",
    "    df = df.withColumn(\"date\", get_datetime(\"ts\")\n",
    "    \n",
    "    # extract columns to create time table\n",
    "    time_table = df.select('ts', \n",
    "                       'timestamp', \n",
    "                       'date', \n",
    "                       F.hour('timestamp').alias('hour'),\n",
    "                       F.dayofmonth('timestamp').alias('day'),\n",
    "                       F.weekofyear('timestamp').alias('week'),\n",
    "                       F.month('timestamp').alias('month'),\n",
    "                       F.year('timestamp').alias(\"year\"),\n",
    "                       F.dayofweek('timestamp').alias(\"weekday\"))\n",
    "    \n",
    "    # write time table to parquet files partitioned by year and month\n",
    "    time_table.write.partitionBy(\"year\", \"month\").parquet(output_data  + \"time_table\")\n",
    "\n",
    "    # read in song data to use for songplays table\n",
    "    song_df = spark.read.parquet(output_data + 'song_table') \n",
    "\n",
    "    # extract columns from joined song and log datasets to create songplays table \n",
    "    songplays_table = df.join(song_df, on=cond, how=\"left\").select(col('userId').alias(\"user_id\"),\n",
    "                                                                'ts',\n",
    "                                                                'year',\n",
    "                                                                'month'\n",
    "                                                                'level',\n",
    "                                                                'song_id',\n",
    "                                                                'artist_id',\n",
    "                                                                col('sessionId').alias(\"session_id\"),\n",
    "                                                                'location',\n",
    "                                                                col(\"userAgent\").alias(\"user_agent\")) \n",
    "\n",
    "    # write songplays table to parquet files partitioned by year and month\n",
    "    songplays_table.write.partitionBy(\"year\", \"month\").parquet(output_data  + \"songplays_table\")"
   ]
  },
  {
   "cell_type": "code",
   "execution_count": 24,
   "metadata": {
    "editable": true
   },
   "outputs": [
    {
     "name": "stdout",
     "output_type": "stream",
     "text": [
      "root\n",
      " |-- artist: string (nullable = true)\n",
      " |-- auth: string (nullable = true)\n",
      " |-- firstName: string (nullable = true)\n",
      " |-- gender: string (nullable = true)\n",
      " |-- itemInSession: long (nullable = true)\n",
      " |-- lastName: string (nullable = true)\n",
      " |-- length: double (nullable = true)\n",
      " |-- level: string (nullable = true)\n",
      " |-- location: string (nullable = true)\n",
      " |-- method: string (nullable = true)\n",
      " |-- page: string (nullable = true)\n",
      " |-- registration: double (nullable = true)\n",
      " |-- sessionId: long (nullable = true)\n",
      " |-- song: string (nullable = true)\n",
      " |-- status: long (nullable = true)\n",
      " |-- ts: long (nullable = true)\n",
      " |-- userAgent: string (nullable = true)\n",
      " |-- userId: string (nullable = true)\n",
      "\n"
     ]
    },
    {
     "data": {
      "text/plain": [
       "6820"
      ]
     },
     "execution_count": 24,
     "metadata": {},
     "output_type": "execute_result"
    }
   ],
   "source": [
    "# get filepath to log data file\n",
    "log_data = input_data + \"log_data/\"\n",
    "\n",
    "# read log data file\n",
    "df = spark.read.json(log_data)\n",
    "\n",
    "# filter by actions for song plays\n",
    "df = df.where(col(\"page\") == \"NextSong\")\n",
    "\n",
    "df.printSchema()\n",
    "df.count()"
   ]
  },
  {
   "cell_type": "code",
   "execution_count": 19,
   "metadata": {
    "editable": true
   },
   "outputs": [
    {
     "data": {
      "text/plain": [
       "96"
      ]
     },
     "execution_count": 19,
     "metadata": {},
     "output_type": "execute_result"
    }
   ],
   "source": [
    "# extract columns for users table\n",
    "window = Window.partitionBy(\"userId\").orderBy(F.desc(\"ts\"))\n",
    "artists_table = df.withColumn(\"rank\", F.rank().over(window))\\\n",
    "                .where(col(\"rank\") == 1)\\\n",
    "                .where(col('userId').isNotNull())\\\n",
    "                .select(col('userId').alias('user_id'), \n",
    "                        col('firstName').alias('first_name'), \n",
    "                        col('lastName').alias('last_name'), \n",
    "                        col('gender'), \n",
    "                        col('level'))\n",
    "\n",
    "artists_table.count()"
   ]
  },
  {
   "cell_type": "code",
   "execution_count": 50,
   "metadata": {
    "editable": true
   },
   "outputs": [],
   "source": [
    "# create timestamp column from original timestamp column\n",
    "get_timestamp = udf(lambda row: datetime.fromtimestamp(row / 1000), TimestampType())\n",
    "df = df.withColumn(\"timestamp\", get_timestamp(\"ts\"))"
   ]
  },
  {
   "cell_type": "code",
   "execution_count": 57,
   "metadata": {
    "editable": true
   },
   "outputs": [],
   "source": [
    "# create datetime column from original timestamp column\n",
    "get_datetime = udf(lambda row: datetime.fromtimestamp(row / 1000).date(), DateType())\n",
    "df = df.withColumn(\"date\", get_datetime(\"ts\"))"
   ]
  },
  {
   "cell_type": "code",
   "execution_count": 58,
   "metadata": {
    "editable": true
   },
   "outputs": [
    {
     "data": {
      "text/html": [
       "<div>\n",
       "<style scoped>\n",
       "    .dataframe tbody tr th:only-of-type {\n",
       "        vertical-align: middle;\n",
       "    }\n",
       "\n",
       "    .dataframe tbody tr th {\n",
       "        vertical-align: top;\n",
       "    }\n",
       "\n",
       "    .dataframe thead th {\n",
       "        text-align: right;\n",
       "    }\n",
       "</style>\n",
       "<table border=\"1\" class=\"dataframe\">\n",
       "  <thead>\n",
       "    <tr style=\"text-align: right;\">\n",
       "      <th></th>\n",
       "      <th>ts</th>\n",
       "      <th>timestamp</th>\n",
       "      <th>date</th>\n",
       "    </tr>\n",
       "  </thead>\n",
       "  <tbody>\n",
       "    <tr>\n",
       "      <th>0</th>\n",
       "      <td>1542241826796</td>\n",
       "      <td>2018-11-15 00:30:26.796</td>\n",
       "      <td>2018-11-15</td>\n",
       "    </tr>\n",
       "    <tr>\n",
       "      <th>1</th>\n",
       "      <td>1542242481796</td>\n",
       "      <td>2018-11-15 00:41:21.796</td>\n",
       "      <td>2018-11-15</td>\n",
       "    </tr>\n",
       "    <tr>\n",
       "      <th>2</th>\n",
       "      <td>1542242741796</td>\n",
       "      <td>2018-11-15 00:45:41.796</td>\n",
       "      <td>2018-11-15</td>\n",
       "    </tr>\n",
       "    <tr>\n",
       "      <th>3</th>\n",
       "      <td>1542253449796</td>\n",
       "      <td>2018-11-15 03:44:09.796</td>\n",
       "      <td>2018-11-15</td>\n",
       "    </tr>\n",
       "    <tr>\n",
       "      <th>4</th>\n",
       "      <td>1542260935796</td>\n",
       "      <td>2018-11-15 05:48:55.796</td>\n",
       "      <td>2018-11-15</td>\n",
       "    </tr>\n",
       "  </tbody>\n",
       "</table>\n",
       "</div>"
      ],
      "text/plain": [
       "              ts               timestamp        date\n",
       "0  1542241826796 2018-11-15 00:30:26.796  2018-11-15\n",
       "1  1542242481796 2018-11-15 00:41:21.796  2018-11-15\n",
       "2  1542242741796 2018-11-15 00:45:41.796  2018-11-15\n",
       "3  1542253449796 2018-11-15 03:44:09.796  2018-11-15\n",
       "4  1542260935796 2018-11-15 05:48:55.796  2018-11-15"
      ]
     },
     "execution_count": 58,
     "metadata": {},
     "output_type": "execute_result"
    }
   ],
   "source": [
    "df.select([\"ts\", \"timestamp\", \"date\"]).limit(5).toPandas()"
   ]
  },
  {
   "cell_type": "code",
   "execution_count": 59,
   "metadata": {
    "editable": true
   },
   "outputs": [
    {
     "name": "stdout",
     "output_type": "stream",
     "text": [
      "root\n",
      " |-- artist: string (nullable = true)\n",
      " |-- auth: string (nullable = true)\n",
      " |-- firstName: string (nullable = true)\n",
      " |-- gender: string (nullable = true)\n",
      " |-- itemInSession: long (nullable = true)\n",
      " |-- lastName: string (nullable = true)\n",
      " |-- length: double (nullable = true)\n",
      " |-- level: string (nullable = true)\n",
      " |-- location: string (nullable = true)\n",
      " |-- method: string (nullable = true)\n",
      " |-- page: string (nullable = true)\n",
      " |-- registration: double (nullable = true)\n",
      " |-- sessionId: long (nullable = true)\n",
      " |-- song: string (nullable = true)\n",
      " |-- status: long (nullable = true)\n",
      " |-- ts: long (nullable = true)\n",
      " |-- userAgent: string (nullable = true)\n",
      " |-- userId: string (nullable = true)\n",
      " |-- timestamp: timestamp (nullable = true)\n",
      " |-- date: date (nullable = true)\n",
      "\n"
     ]
    }
   ],
   "source": [
    "df.printSchema()"
   ]
  },
  {
   "cell_type": "code",
   "execution_count": 70,
   "metadata": {
    "editable": true
   },
   "outputs": [
    {
     "name": "stdout",
     "output_type": "stream",
     "text": [
      "root\n",
      " |-- ts: long (nullable = true)\n",
      " |-- timestamp: timestamp (nullable = true)\n",
      " |-- date: date (nullable = true)\n",
      " |-- hour: integer (nullable = true)\n",
      " |-- day: integer (nullable = true)\n",
      " |-- week: integer (nullable = true)\n",
      " |-- month: integer (nullable = true)\n",
      " |-- year: integer (nullable = true)\n",
      " |-- weekday: integer (nullable = true)\n",
      "\n"
     ]
    }
   ],
   "source": [
    "time_table = df.select('ts', \n",
    "                       'timestamp', \n",
    "                       'date', \n",
    "                       F.hour('timestamp').alias('hour'),\n",
    "                       F.dayofmonth('timestamp').alias('day'),\n",
    "                       F.weekofyear('timestamp').alias('week'),\n",
    "                       F.month('timestamp').alias('month'),\n",
    "                       F.year('timestamp').alias(\"year\"),\n",
    "                       F.dayofweek('timestamp').alias(\"weekday\"))\n",
    "\n",
    "time_table.printSchema()"
   ]
  },
  {
   "cell_type": "code",
   "execution_count": 73,
   "metadata": {
    "editable": true
   },
   "outputs": [
    {
     "name": "stdout",
     "output_type": "stream",
     "text": [
      "root\n",
      " |-- song_id: string (nullable = true)\n",
      " |-- title: string (nullable = true)\n",
      " |-- duration: double (nullable = true)\n",
      " |-- year: integer (nullable = true)\n",
      " |-- artist_id: string (nullable = true)\n",
      "\n"
     ]
    },
    {
     "data": {
      "text/plain": [
       "71"
      ]
     },
     "execution_count": 73,
     "metadata": {},
     "output_type": "execute_result"
    }
   ],
   "source": [
    "song_df = spark.read.parquet(output_data + 'song_tables')\n",
    "\n",
    "song_df.printSchema()\n",
    "song_df.count()"
   ]
  },
  {
   "cell_type": "code",
   "execution_count": 75,
   "metadata": {
    "editable": true
   },
   "outputs": [],
   "source": [
    "cond = [df.song == song_df.title, \n",
    "       df.length == song_df.duration]\n",
    "\n",
    "songplays_table = df.join(song_df, on=cond, how=\"left\").select(col('userId').alias(\"user_id\"),\n",
    "                                            'ts',\n",
    "                                            'level',\n",
    "                                            'song_id',\n",
    "                                            'artist_id',\n",
    "                                            col('sessionId').alias(\"session_id\"),\n",
    "                                            'location',\n",
    "                                            col(\"userAgent\").alias(\"user_agent\"))"
   ]
  },
  {
   "cell_type": "code",
   "execution_count": 76,
   "metadata": {
    "editable": true
   },
   "outputs": [
    {
     "data": {
      "text/plain": [
       "6820"
      ]
     },
     "execution_count": 76,
     "metadata": {},
     "output_type": "execute_result"
    }
   ],
   "source": [
    "songplays_table.count()"
   ]
  },
  {
   "cell_type": "code",
   "execution_count": 78,
   "metadata": {
    "editable": true
   },
   "outputs": [
    {
     "name": "stdout",
     "output_type": "stream",
     "text": [
      "+-------+-------------+-----+------------------+------------------+----------+--------------------+--------------------+\n",
      "|user_id|           ts|level|           song_id|         artist_id|session_id|            location|          user_agent|\n",
      "+-------+-------------+-----+------------------+------------------+----------+--------------------+--------------------+\n",
      "|     15|1542837407796| paid|SOZCTXZ12AB0182364|AR5KOSW1187FB35FF4|       818|Chicago-Napervill...|\"Mozilla/5.0 (X11...|\n",
      "+-------+-------------+-----+------------------+------------------+----------+--------------------+--------------------+\n",
      "\n"
     ]
    }
   ],
   "source": [
    "songplays_table.where(col('song_id').isNotNull()).show()"
   ]
  },
  {
   "cell_type": "code",
   "execution_count": 79,
   "metadata": {
    "editable": true
   },
   "outputs": [
    {
     "name": "stdout",
     "output_type": "stream",
     "text": [
      "+------------------+--------------+---------+----+------------------+\n",
      "|           song_id|         title| duration|year|         artist_id|\n",
      "+------------------+--------------+---------+----+------------------+\n",
      "|SOZCTXZ12AB0182364|Setanta matins|269.58322|   0|AR5KOSW1187FB35FF4|\n",
      "+------------------+--------------+---------+----+------------------+\n",
      "\n"
     ]
    }
   ],
   "source": [
    "song_df.where(col(\"song_id\") == 'SOZCTXZ12AB0182364').show()"
   ]
  },
  {
   "cell_type": "code",
   "execution_count": null,
   "metadata": {
    "editable": true
   },
   "outputs": [],
   "source": []
  },
  {
   "cell_type": "code",
   "execution_count": null,
   "metadata": {
    "editable": true
   },
   "outputs": [],
   "source": []
  },
  {
   "cell_type": "code",
   "execution_count": null,
   "metadata": {
    "editable": true
   },
   "outputs": [],
   "source": []
  },
  {
   "cell_type": "code",
   "execution_count": null,
   "metadata": {
    "editable": true
   },
   "outputs": [],
   "source": []
  },
  {
   "cell_type": "code",
   "execution_count": null,
   "metadata": {
    "editable": true
   },
   "outputs": [],
   "source": []
  }
 ],
 "metadata": {
  "kernelspec": {
   "display_name": "Python 3",
   "language": "python",
   "name": "python3"
  },
  "language_info": {
   "codemirror_mode": {
    "name": "ipython",
    "version": 3
   },
   "file_extension": ".py",
   "mimetype": "text/x-python",
   "name": "python",
   "nbconvert_exporter": "python",
   "pygments_lexer": "ipython3",
   "version": "3.6.3"
  }
 },
 "nbformat": 4,
 "nbformat_minor": 4
}
