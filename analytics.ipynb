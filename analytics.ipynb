{
 "cells": [
  {
   "cell_type": "code",
   "execution_count": 1,
   "metadata": {
    "editable": true
   },
   "outputs": [],
   "source": [
    "import configparser\n",
    "from datetime import datetime\n",
    "import os\n",
    "from pyspark.sql.types import TimestampType, DateType\n",
    "from pyspark.sql.window import Window\n",
    "from pyspark.sql import SparkSession\n",
    "from pyspark.sql import functions as F\n",
    "from pyspark.sql.functions import udf, col\n",
    "from pyspark.sql.functions import year, month, dayofmonth, hour, weekofyear, date_format"
   ]
  },
  {
   "cell_type": "code",
   "execution_count": 2,
   "metadata": {
    "editable": true
   },
   "outputs": [],
   "source": [
    "def create_spark_session():\n",
    "    spark = SparkSession \\\n",
    "        .builder \\\n",
    "        .config(\"spark.jars.packages\", \"org.apache.hadoop:hadoop-aws:2.7.0\") \\\n",
    "        .getOrCreate()\n",
    "    return spark"
   ]
  },
  {
   "cell_type": "code",
   "execution_count": 3,
   "metadata": {
    "editable": true
   },
   "outputs": [],
   "source": [
    "config = configparser.ConfigParser()\n",
    "config.read_file(open('dl.cfg'))\n",
    "\n",
    "os.environ['AWS_ACCESS_KEY_ID']=config['AWS']['AWS_ACCESS_KEY_ID']\n",
    "os.environ['AWS_SECRET_ACCESS_KEY']=config['AWS']['AWS_SECRET_ACCESS_KEY']"
   ]
  },
  {
   "cell_type": "code",
   "execution_count": 4,
   "metadata": {
    "editable": true
   },
   "outputs": [],
   "source": [
    "input_data = \"./data/\"\n",
    "output_data = \"./data/sparkify/\"\n",
    "spark = create_spark_session()"
   ]
  },
  {
   "cell_type": "code",
   "execution_count": 8,
   "metadata": {
    "editable": true
   },
   "outputs": [
    {
     "name": "stdout",
     "output_type": "stream",
     "text": [
      "root\n",
      " |-- song_id: string (nullable = true)\n",
      " |-- title: string (nullable = true)\n",
      " |-- duration: double (nullable = true)\n",
      " |-- year: integer (nullable = true)\n",
      " |-- artist_id: string (nullable = true)\n",
      "\n"
     ]
    },
    {
     "data": {
      "text/plain": [
       "71"
      ]
     },
     "execution_count": 8,
     "metadata": {},
     "output_type": "execute_result"
    }
   ],
   "source": [
    "song_output = spark.read.parquet(output_data + \"song_table/\")\n",
    "\n",
    "song_output.printSchema()\n",
    "song_output.count()"
   ]
  },
  {
   "cell_type": "code",
   "execution_count": null,
   "metadata": {
    "editable": true
   },
   "outputs": [],
   "source": [
    "song_output = spark.read.parquet(output_data + \"song_table/\")\n",
    "\n",
    "song_output.printSchema()\n",
    "song_output.count()"
   ]
  },
  {
   "cell_type": "code",
   "execution_count": 22,
   "metadata": {
    "editable": true
   },
   "outputs": [
    {
     "name": "stdout",
     "output_type": "stream",
     "text": [
      "READING song_table\n",
      "SCHEMA song_table\n",
      "root\n",
      " |-- song_id: string (nullable = true)\n",
      " |-- title: string (nullable = true)\n",
      " |-- duration: double (nullable = true)\n",
      " |-- year: integer (nullable = true)\n",
      " |-- artist_id: string (nullable = true)\n",
      "\n",
      "table song_table has 71 rows \n",
      "\n",
      "READING artist_table\n",
      "SCHEMA artist_table\n",
      "root\n",
      " |-- artist_id: string (nullable = true)\n",
      " |-- name: string (nullable = true)\n",
      " |-- location: string (nullable = true)\n",
      " |-- latitude: double (nullable = true)\n",
      " |-- longitude: double (nullable = true)\n",
      "\n",
      "table artist_table has 69 rows \n",
      "\n",
      "READING time_table\n",
      "SCHEMA time_table\n",
      "root\n",
      " |-- ts: long (nullable = true)\n",
      " |-- timestamp: timestamp (nullable = true)\n",
      " |-- date: date (nullable = true)\n",
      " |-- hour: integer (nullable = true)\n",
      " |-- day: integer (nullable = true)\n",
      " |-- week: integer (nullable = true)\n",
      " |-- weekday: integer (nullable = true)\n",
      " |-- year: integer (nullable = true)\n",
      " |-- month: integer (nullable = true)\n",
      "\n",
      "table time_table has 6820 rows \n",
      "\n",
      "READING user_table\n",
      "SCHEMA user_table\n",
      "root\n",
      " |-- user_id: string (nullable = true)\n",
      " |-- first_name: string (nullable = true)\n",
      " |-- last_name: string (nullable = true)\n",
      " |-- gender: string (nullable = true)\n",
      " |-- level: string (nullable = true)\n",
      "\n",
      "table user_table has 96 rows \n",
      "\n",
      "READING songplays_table\n",
      "SCHEMA songplays_table\n",
      "root\n",
      " |-- user_id: string (nullable = true)\n",
      " |-- ts: long (nullable = true)\n",
      " |-- level: string (nullable = true)\n",
      " |-- song_id: string (nullable = true)\n",
      " |-- artist_id: string (nullable = true)\n",
      " |-- session_id: long (nullable = true)\n",
      " |-- location: string (nullable = true)\n",
      " |-- user_agent: string (nullable = true)\n",
      " |-- year: integer (nullable = true)\n",
      " |-- month: integer (nullable = true)\n",
      "\n",
      "table songplays_table has 6820 rows \n",
      "\n"
     ]
    }
   ],
   "source": [
    "list_variables = [\"song_table\", \"artist_table\", 'time_table', 'user_table', 'songplays_table']\n",
    "\n",
    "for val in list_variables:\n",
    "    print(f\"READING {val}\")\n",
    "    exec(f\"\"\"\n",
    "{val} = spark.read.parquet('{output_data + val}')\n",
    "print(\"SCHEMA {val}\")\n",
    "{val}.printSchema()\n",
    "print(\"table {val} has \" +str({val}.count())+ ' rows \\\\n')\n",
    "    \"\"\")"
   ]
  },
  {
   "cell_type": "code",
   "execution_count": 32,
   "metadata": {
    "editable": true
   },
   "outputs": [
    {
     "name": "stdout",
     "output_type": "stream",
     "text": [
      "+----+----------+\n",
      "|week|count_user|\n",
      "+----+----------+\n",
      "|  44|        41|\n",
      "|  47|        74|\n",
      "|  48|        62|\n",
      "|  45|        69|\n",
      "|  46|        60|\n",
      "+----+----------+\n",
      "\n"
     ]
    }
   ],
   "source": [
    "songplays_table.join(time_table, \n",
    "                     on=[songplays_table.ts == time_table.ts], \n",
    "                     how=\"left\")\\\n",
    "                    .groupBy(\"week\")\\\n",
    "                    .agg(F.countDistinct(\"user_id\").alias(\"count_user\"))\\\n",
    "                    .show()"
   ]
  },
  {
   "cell_type": "code",
   "execution_count": 37,
   "metadata": {
    "editable": true
   },
   "outputs": [
    {
     "name": "stdout",
     "output_type": "stream",
     "text": [
      "+------+-----+-----+\n",
      "|gender|level|count|\n",
      "+------+-----+-----+\n",
      "|     M| free|  585|\n",
      "|     F| free|  530|\n",
      "|     F| paid| 4357|\n",
      "|     M| paid| 1348|\n",
      "+------+-----+-----+\n",
      "\n"
     ]
    }
   ],
   "source": [
    "songplays_table.join(user_table, \n",
    "                    on=[songplays_table.user_id == user_table.user_id],\n",
    "                    how=\"left\")\\\n",
    "                .groupBy(\"gender\",user_table.level)\\\n",
    "                .count().alias(\"number_songplays\")\\\n",
    "                .show()"
   ]
  },
  {
   "cell_type": "code",
   "execution_count": 45,
   "metadata": {
    "editable": true
   },
   "outputs": [
    {
     "name": "stdout",
     "output_type": "stream",
     "text": [
      "+--------------------+----+----+----+----+----+\n",
      "|            location|  44|  45|  46|  47|  48|\n",
      "+--------------------+----+----+----+----+----+\n",
      "|        Richmond, VA|null|   1|null|   1|   1|\n",
      "|San Diego-Carlsba...|null|   1|null|   1|null|\n",
      "|La Crosse-Onalask...|   1|   1|   1|   1|   1|\n",
      "|New Haven-Milford...|   1|   1|   1|   1|   1|\n",
      "|Birmingham-Hoover...|   1|   1|   1|   1|   1|\n",
      "|Indianapolis-Carm...|   1|null|   1|   1|   1|\n",
      "|Seattle-Tacoma-Be...|null|null|   1|   1|   1|\n",
      "|       Palestine, TX|null|   1|null|   1|   1|\n",
      "|      Santa Rosa, CA|   1|   1|   1|   1|   1|\n",
      "|   Winston-Salem, NC|   1|   1|   1|   1|null|\n",
      "|Los Angeles-Long ...|null|   1|   1|   3|null|\n",
      "|Minneapolis-St. P...|null|   1|   1|null|   1|\n",
      "|San Francisco-Oak...|   1|   1|   1|   1|   2|\n",
      "|Phoenix-Mesa-Scot...|   1|   1|   1|   1|   1|\n",
      "|Augusta-Richmond ...|null|null|   1|   1|   1|\n",
      "|Miami-Fort Lauder...|null|   1|null|null|null|\n",
      "|San Jose-Sunnyval...|   1|   2|   2|   2|   2|\n",
      "|       Yuba City, CA|   1|   1|   1|   1|   1|\n",
      "|Myrtle Beach-Conw...|null|null|null|   1|null|\n",
      "|        Longview, TX|null|null|null|   1|null|\n",
      "+--------------------+----+----+----+----+----+\n",
      "only showing top 20 rows\n",
      "\n"
     ]
    }
   ],
   "source": [
    "songplays_table.join(time_table, \n",
    "                     on=[songplays_table.ts == time_table.ts], \n",
    "                     how=\"left\")\\\n",
    "                .groupBy(\"location\")\\\n",
    "                .pivot(\"week\")\\\n",
    "                .agg(F.countDistinct(\"user_id\").alias(\"number_user\"))\\\n",
    "                .show()"
   ]
  },
  {
   "cell_type": "code",
   "execution_count": null,
   "metadata": {
    "editable": true
   },
   "outputs": [],
   "source": []
  },
  {
   "cell_type": "code",
   "execution_count": null,
   "metadata": {
    "editable": true
   },
   "outputs": [],
   "source": []
  },
  {
   "cell_type": "code",
   "execution_count": null,
   "metadata": {
    "editable": true
   },
   "outputs": [],
   "source": []
  },
  {
   "cell_type": "code",
   "execution_count": null,
   "metadata": {
    "editable": true
   },
   "outputs": [],
   "source": []
  },
  {
   "cell_type": "code",
   "execution_count": null,
   "metadata": {
    "editable": true
   },
   "outputs": [],
   "source": []
  },
  {
   "cell_type": "code",
   "execution_count": null,
   "metadata": {
    "editable": true
   },
   "outputs": [],
   "source": []
  },
  {
   "cell_type": "code",
   "execution_count": null,
   "metadata": {
    "editable": true
   },
   "outputs": [],
   "source": []
  },
  {
   "cell_type": "code",
   "execution_count": null,
   "metadata": {
    "editable": true
   },
   "outputs": [],
   "source": []
  },
  {
   "cell_type": "code",
   "execution_count": null,
   "metadata": {
    "editable": true
   },
   "outputs": [],
   "source": []
  },
  {
   "cell_type": "code",
   "execution_count": null,
   "metadata": {
    "editable": true
   },
   "outputs": [],
   "source": []
  },
  {
   "cell_type": "code",
   "execution_count": null,
   "metadata": {
    "editable": true
   },
   "outputs": [],
   "source": []
  },
  {
   "cell_type": "code",
   "execution_count": null,
   "metadata": {
    "editable": true
   },
   "outputs": [],
   "source": []
  }
 ],
 "metadata": {
  "kernelspec": {
   "display_name": "Python 3",
   "language": "python",
   "name": "python3"
  },
  "language_info": {
   "codemirror_mode": {
    "name": "ipython",
    "version": 3
   },
   "file_extension": ".py",
   "mimetype": "text/x-python",
   "name": "python",
   "nbconvert_exporter": "python",
   "pygments_lexer": "ipython3",
   "version": "3.6.3"
  }
 },
 "nbformat": 4,
 "nbformat_minor": 4
}
